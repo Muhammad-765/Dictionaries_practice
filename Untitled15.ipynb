{
 "cells": [
  {
   "cell_type": "markdown",
   "id": "a6fb38c4-8ce9-4ebf-8cd8-214f4f6dd8be",
   "metadata": {},
   "source": [
    "# Muhammad\n",
    "## FA25-BBD-055"
   ]
  },
  {
   "cell_type": "code",
   "execution_count": 10,
   "id": "cb65e731-1497-41f5-9914-19ec90ee30a3",
   "metadata": {},
   "outputs": [
    {
     "name": "stdout",
     "output_type": "stream",
     "text": [
      "name : Muhammad\n",
      "age : 20\n",
      "city : Quetta\n",
      "hobbies : bodybuilding\n"
     ]
    }
   ],
   "source": [
    "# 13 practice questions\n",
    "#(a)\n",
    "person = {\"name\": \"Muhammad\",\"age\": 20,\"city\": \"Quetta\",\"hobbies\": \"bodybuilding\"}\n",
    "for key, value in person.items():\n",
    "    print(f\"{key} : {value}\")"
   ]
  },
  {
   "cell_type": "code",
   "execution_count": 11,
   "id": "edbc1e29-7617-4e31-a415-d2bc0864fd9c",
   "metadata": {},
   "outputs": [
    {
     "name": "stdout",
     "output_type": "stream",
     "text": [
      "Word Frequency:\n",
      "apple: 3\n",
      "banana: 2\n",
      "orange: 1\n"
     ]
    }
   ],
   "source": [
    "#(b)\n",
    "text = \"apple banana apple orange banana apple\"\n",
    "words = text.split()\n",
    "frequency = {}\n",
    "for word in words:\n",
    "    frequency[word] = frequency.get(word, 0) + 1\n",
    "print(\"Word Frequency:\")\n",
    "for word, count in frequency.items():\n",
    "    print(f\"{word}: {count}\")\n"
   ]
  },
  {
   "cell_type": "code",
   "execution_count": 12,
   "id": "d148944c-0bb4-4df0-a4ae-bebf54592668",
   "metadata": {},
   "outputs": [
    {
     "name": "stdout",
     "output_type": "stream",
     "text": [
      "Inventory:\n",
      "apples: 60\n",
      "bananas: 25\n",
      "oranges: 20\n"
     ]
    }
   ],
   "source": [
    "#(c)\n",
    "inventory = {\"apples\": 50,\"bananas\": 30,\"oranges\": 20}\n",
    "inventory[\"apples\"] += 10  \n",
    "inventory[\"bananas\"] -= 5 \n",
    "print(\"Inventory:\")\n",
    "for item, quantity in inventory.items():\n",
    "    print(f\"{item}: {quantity}\")"
   ]
  },
  {
   "cell_type": "code",
   "execution_count": 13,
   "id": "3dbbd11b-2f85-4009-a7a5-b0f3e5dd86d0",
   "metadata": {},
   "outputs": [
    {
     "name": "stdout",
     "output_type": "stream",
     "text": [
      "Category Frequency: {'Clothing': 3, 'Electronics': 2}\n",
      "Most Popular Category: Clothing\n"
     ]
    }
   ],
   "source": [
    "#(d)\n",
    "orders = [\n",
    "    {\"product\": \"Shirt\", \"category\": \"Clothing\"},\n",
    "    {\"product\": \"Jeans\", \"category\": \"Clothing\"},\n",
    "    {\"product\": \"Phone\", \"category\": \"Electronics\"},\n",
    "    {\"product\": \"Laptop\", \"category\": \"Electronics\"},\n",
    "    {\"product\": \"Shirt\", \"category\": \"Clothing\"}\n",
    "]\n",
    "category_count = {}\n",
    "for order in orders:\n",
    "    category = order[\"category\"]\n",
    "    category_count[category] = category_count.get(category, 0) + 1\n",
    "most_popular = max(category_count, key=category_count.get)\n",
    "print(\"Category Frequency:\", category_count)\n",
    "print(\"Most Popular Category:\", most_popular)"
   ]
  },
  {
   "cell_type": "code",
   "execution_count": 14,
   "id": "183de9ef-2c84-4e62-8e8a-6d988ceacd56",
   "metadata": {},
   "outputs": [
    {
     "name": "stdout",
     "output_type": "stream",
     "text": [
      "Ali's Average Grade: 84.33\n",
      "Sara's Average Grade: 91.67\n",
      "Ahmed's Average Grade: 75.00\n"
     ]
    }
   ],
   "source": [
    "#(e)\n",
    "grades ={\"Ali\": [85, 90, 78],\"Sara\": [92, 88, 95],\"Ahmed\": [70, 80, 75]}\n",
    "for student, scores in grades.items():\n",
    "    average = sum(scores) / len(scores)\n",
    "    print(f\"{student}'s Average Grade: {average:.2f}\")"
   ]
  },
  {
   "cell_type": "code",
   "execution_count": 18,
   "id": "a7a80a5a-4be6-4060-88f8-6f51a059ac51",
   "metadata": {},
   "outputs": [
    {
     "name": "stdout",
     "output_type": "stream",
     "text": [
      "Total Inventory Value: 330\n",
      "Low Stock Items: {'Notebook': {'quantity': 3, 'price': 50}, 'Eraser': {'quantity': 2, 'price': 10}}\n"
     ]
    }
   ],
   "source": [
    "#(f)\n",
    "inventory = {}\n",
    "add_product(\"Pen\", 10, 20)\n",
    "add_product(\"Notebook\", 3, 50)\n",
    "add_product(\"Eraser\", 2, 10)\n",
    "update_quantity(\"Pen\", -2)\n",
    "print(\"Total Inventory Value:\", total_value())\n",
    "print(\"Low Stock Items:\", low_stock())"
   ]
  },
  {
   "cell_type": "code",
   "execution_count": 19,
   "id": "9187b3b7-d9d9-45d4-a630-dccb7abc9d71",
   "metadata": {},
   "outputs": [
    {
     "name": "stdout",
     "output_type": "stream",
     "text": [
      "Ali's Average Grade: 84.33\n",
      "Sara's Average Grade: 91.67\n",
      "Ahmed's Average Grade: 70.00\n",
      "\n",
      "Highest in Math: Sara (92)\n",
      "Lowest in Math: Ahmed (70)\n",
      "\n",
      "Students Sorted by Average:\n",
      "Sara: 91.67\n",
      "Ali: 84.33\n",
      "Ahmed: 70.00\n"
     ]
    }
   ],
   "source": [
    "#(g)\n",
    "students = {\n",
    "    \"Ali\": {\"Math\": 85, \"English\": 78, \"Science\": 90},\n",
    "    \"Sara\": {\"Math\": 92, \"English\": 88, \"Science\": 95},\n",
    "    \"Ahmed\": {\"Math\": 70, \"English\": 65, \"Science\": 75}\n",
    "}\n",
    "averages = {}\n",
    "for name, subjects in students.items():\n",
    "    avg = sum(subjects.values()) / len(subjects)\n",
    "    averages[name] = avg\n",
    "    print(f\"{name}'s Average Grade: {avg:.2f}\")\n",
    "\n",
    "subject = \"Math\"\n",
    "subject_grades = {name: data[subject] for name, data in students.items()}\n",
    "highest = max(subject_grades, key=subject_grades.get)\n",
    "lowest = min(subject_grades, key=subject_grades.get)\n",
    "\n",
    "print(f\"\\nHighest in {subject}: {highest} ({subject_grades[highest]})\")\n",
    "print(f\"Lowest in {subject}: {lowest} ({subject_grades[lowest]})\")\n",
    "\n",
    "sorted_students = sorted(averages.items(), key=lambda x: x[1], reverse=True)\n",
    "print(\"\\nStudents Sorted by Average:\")\n",
    "for name, avg in sorted_students:\n",
    "    print(f\"{name}: {avg:.2f}\")"
   ]
  },
  {
   "cell_type": "code",
   "execution_count": null,
   "id": "1e762bd4-6b91-4ec5-a183-001eecd6982d",
   "metadata": {},
   "outputs": [],
   "source": [
    "#(h)\n",
    "products = {\n",
    "    \"Shirt\": {\"price\": 1000, \"quantity\": 10},\n",
    "    \"Shoes\": {\"price\": 2000, \"quantity\": 5},\n",
    "    \"Watch\": {\"price\": 1500, \"quantity\": 8}\n",
    "}\n",
    "cart = {}\n",
    "\n",
    "def add_to_cart(item, quantity):\n",
    "    if item in products and products[item][\"quantity\"] >= quantity:\n",
    "        cart[item] = cart.get(item, 0) + quantity\n",
    "        products[item][\"quantity\"] -= quantity\n",
    "    else:\n",
    "        print(f\"Not enough stock for {item}\")\n",
    "\n",
    "def remove_from_cart(item, quantity):\n",
    "    if item in cart:\n",
    "        cart[item] -= quantity\n",
    "        if cart[item] <= 0:\n",
    "            del cart[item]\n",
    "        products[item][\"quantity\"] += quantity\n",
    "\n",
    "def calculate_total():\n",
    "    total = sum(products[item][\"price\"] * qty for item, qty in cart.items())\n",
    "    discount = 0.1 * total  # 10% discount\n",
    "    tax = 0.05 * (total - discount)  # 5% tax\n",
    "    final_total = total - discount + tax\n",
    "    return final_total\n",
    "\n",
    "# Example usage\n",
    "add_to_cart(\"Shirt\", 2)\n",
    "add_to_cart(\"Shoes\", 1)\n",
    "\n",
    "print(\"Cart:\", cart)\n",
    "print(\"Total after Discount & Tax:\", calculate_total())\n",
    "\n"
   ]
  }
 ],
 "metadata": {
  "kernelspec": {
   "display_name": "Python 3 (ipykernel)",
   "language": "python",
   "name": "python3"
  },
  "language_info": {
   "codemirror_mode": {
    "name": "ipython",
    "version": 3
   },
   "file_extension": ".py",
   "mimetype": "text/x-python",
   "name": "python",
   "nbconvert_exporter": "python",
   "pygments_lexer": "ipython3",
   "version": "3.13.5"
  }
 },
 "nbformat": 4,
 "nbformat_minor": 5
}
